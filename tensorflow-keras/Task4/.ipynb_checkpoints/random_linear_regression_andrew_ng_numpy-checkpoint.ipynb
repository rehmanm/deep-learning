{
 "cells": [
  {
   "cell_type": "code",
   "execution_count": null,
   "metadata": {},
   "outputs": [],
   "source": [
    "import numpy as np\n",
    "import matplotlib.pyplot as plt"
   ]
  },
  {
   "cell_type": "code",
   "execution_count": null,
   "metadata": {},
   "outputs": [],
   "source": [
    "def loadData(fileName):\n",
    "    data = np.matrix(np.loadtxt(fileName, delimiter=',', skiprows = 1))\n",
    "    return (data[:, 0], data[:, 1])"
   ]
  },
  {
   "cell_type": "code",
   "execution_count": null,
   "metadata": {},
   "outputs": [],
   "source": [
    "def GradientDissent(X, Y, theta, alpha, num_iters):\n",
    "    m = np.size(Y)\n",
    "    hx = np.matmul(X, theta)\n",
    "    c1 = Cost(theta, X, Y)\n",
    "    for i in range(0, num_iters):\n",
    "        temp = (alpha / m) * np.matmul(X.T, (hx - Y))\n",
    "        c2 = Cost(theta - temp, X, Y)\n",
    " \n",
    "        if c1 > c2:\n",
    "            c1 = c2\n",
    "            theta = theta - temp\n",
    "        #print (c1, c2, theta)\n",
    "    \n",
    "    return theta"
   ]
  },
  {
   "cell_type": "code",
   "execution_count": null,
   "metadata": {},
   "outputs": [],
   "source": [
    "def Cost(theta, X, Y):\n",
    "    m = Y.size\n",
    "    hx = np.matmul(X, theta)\n",
    "    return np.sum(np.power(np.subtract(hx, Y), 2)) / (2 * m)"
   ]
  },
  {
   "cell_type": "code",
   "execution_count": null,
   "metadata": {},
   "outputs": [],
   "source": [
    "X, Y = loadData(\"train.csv\")\n",
    "m = Y.size\n",
    "t = X"
   ]
  },
  {
   "cell_type": "code",
   "execution_count": null,
   "metadata": {},
   "outputs": [],
   "source": [
    "X = np.hstack((np.matrix(np.ones(m).reshape(m, 1)), t))\n",
    "\n",
    "theta = np.matrix(np.ones(2).reshape(2, 1))\n",
    "theta = GradientDissent(X, Y, theta, 0.000001, 100)\n",
    "Cost(theta, X, Y)"
   ]
  },
  {
   "cell_type": "code",
   "execution_count": null,
   "metadata": {},
   "outputs": [],
   "source": [
    "print(theta)\n",
    "plt.scatter(np.array(t), np.array(Y), marker = 'x', color='r')\n",
    "plt.plot(np.array(t),np.array(np.matmul(X, theta)))\n",
    "plt.title(\"After Regression: slope = \" + str(theta))\n",
    "plt.show()\n",
    "print(Cost(theta, X, Y))"
   ]
  },
  {
   "cell_type": "code",
   "execution_count": null,
   "metadata": {},
   "outputs": [],
   "source": [
    "#test data\n",
    "X, Y = loadData(\"test.csv\")\n",
    "m = Y.size\n",
    "t = X\n",
    "X = np.hstack((np.matrix(np.ones(m).reshape(m, 1)), t))\n",
    "plt.scatter(np.array(t), np.array(Y), marker = 'x', color='r')\n",
    "plt.plot(np.array(t),np.array(np.matmul(X, theta)))\n",
    "plt.title(\"After Regression: slope = \" + str(theta))\n",
    "plt.show()\n",
    "print(Cost(theta, X, Y))"
   ]
  },
  {
   "cell_type": "code",
   "execution_count": null,
   "metadata": {},
   "outputs": [],
   "source": []
  }
 ],
 "metadata": {
  "kernelspec": {
   "display_name": "Python 3",
   "language": "python",
   "name": "python3"
  },
  "language_info": {
   "codemirror_mode": {
    "name": "ipython",
    "version": 3
   },
   "file_extension": ".py",
   "mimetype": "text/x-python",
   "name": "python",
   "nbconvert_exporter": "python",
   "pygments_lexer": "ipython3",
   "version": "3.5.2"
  }
 },
 "nbformat": 4,
 "nbformat_minor": 2
}
